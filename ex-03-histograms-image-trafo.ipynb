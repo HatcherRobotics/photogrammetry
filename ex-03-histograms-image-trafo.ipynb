{
 "cells": [
  {
   "cell_type": "markdown",
   "metadata": {},
   "source": [
    "## Exercise in Photogrammetry I\n",
    "## **Ex.3 : Histograms and Image Transformations**\n",
    "### Hand out: xx.xx.xxxx\n",
    "### Submission: xx.xx.xxxx \n",
    "### Points: 17"
   ]
  },
  {
   "cell_type": "markdown",
   "metadata": {},
   "source": [
    "## A. Histogram Basics *(10 points)*\n",
    "In this exercise, you will learn how to apply image transformations and how to compute histograms. Whenever you define a **function** write a **docstring** which gives details about the function itself as well as input and output.\n",
    "\n",
    "For example: \n",
    "```\n",
    "def my_function(arg1, arg2):\n",
    "    \"\"\" Explain what your function does.\n",
    "\n",
    "    Args:\n",
    "        arg1: Explain the first argument.\n",
    "        arg2: Explain the second argument.\n",
    "\n",
    "    Returns:\n",
    "        Give details about the return value.\n",
    "    \"\"\"\n",
    "    ...\n",
    "    return True\n",
    "```"
   ]
  },
  {
   "cell_type": "markdown",
   "metadata": {},
   "source": [
    "**Tasks:**\n",
    "1. import all necessary modules to modify, load and visualize images *(0 points)*\n",
    "2. Load ```images/cube.jpg``` as a **grayscale** image. Make sure that the pixels are within [0, 255] and the underlying datatype is *uint8*. Finally visualize the image and print out its minimum and maximum value as well as its data type. *(2 points)*\n",
    "3. Define a **function** ```histogram(image)``` which takes as input an image [np.array] and returns its histogram [np.array]. The histogram should have 256 bins. Do not use built-in python functions which compute the histogram for you! *(3 points)*\n",
    "4. Define a **function** ```cumulativeHistogram(hist)``` which takes as input a histogram [np.array] and returns the cumulative histogram [np.array]. The histogram should have 256 bins as well. *(3 points)*\n",
    "5. **Compute** the **histogram** and **cumulative histogram** of the grayscale cube image by calling your previously defined functions. <br>Finally, **plot** the results and assign proper **labels** to both **axis**. *(2 points)*\n",
    "<br>**Hint:** use ```plt.bar(...)``` for the histogram and ```plt.plot(...)``` for the cumulative histogram."
   ]
  },
  {
   "cell_type": "code",
   "execution_count": 1,
   "metadata": {},
   "outputs": [],
   "source": [
    "# 1. Import modules\n",
    "from matplotlib import pyplot as plt\n",
    "import cv2 as cv\n",
    "import numpy as np"
   ]
  },
  {
   "cell_type": "code",
   "execution_count": 2,
   "metadata": {
    "scrolled": false
   },
   "outputs": [],
   "source": [
    "# 2. Load and visualize image\n",
    "img=cv.imread(\"images/cube.jpg\")\n",
    "img_unit8=img.astype(np.uint8)\n",
    "img_gray=cv.cvtColor(img_unit8,cv.COLOR_BGR2GRAY)\n",
    "#cv.imshow(\"img_gray\",img_gray)\n",
    "#cv.waitKey(0)"
   ]
  },
  {
   "cell_type": "code",
   "execution_count": 3,
   "metadata": {},
   "outputs": [
    {
     "name": "stdout",
     "output_type": "stream",
     "text": [
      "0 uint8\n",
      "255 uint8\n"
     ]
    }
   ],
   "source": [
    "# Print out the minimum and maximum value of the displayed image as well as its data type\n",
    "minimum=255 \n",
    "maximum=0\n",
    "for row in range(img_gray.shape[0]):\n",
    "    for col in range(img_gray.shape[1]):\n",
    "        if img_gray[row,col]<minimum:\n",
    "            minimum=img_gray[row,col]\n",
    "            minimum_dtype=img_gray[row,col].dtype\n",
    "        if img_gray[row,col]>maximum:\n",
    "            maximum=img_gray[row,col]\n",
    "            maximum_dtype=img_gray[row,col].dtype\n",
    "print(minimum,minimum_dtype)\n",
    "print(maximum,maximum_dtype)            "
   ]
  },
  {
   "cell_type": "code",
   "execution_count": 4,
   "metadata": {},
   "outputs": [],
   "source": [
    "# 3. Define your function called histogram(image) here:\n",
    "def histogram(image):\n",
    "    height=image.shape[0]\n",
    "    weight=image.shape[1]\n",
    "    hist=np.zeros([2,256],dtype='int')\n",
    "    i=0\n",
    "    while i<256:\n",
    "        hist[0,i]=i\n",
    "        for rows in range(height):\n",
    "            for cols in range(weight):\n",
    "                if image[rows-1,cols-1]==i:\n",
    "                    hist[1,i]+=1\n",
    "        i+=1\n",
    "        return hist"
   ]
  },
  {
   "cell_type": "code",
   "execution_count": 5,
   "metadata": {},
   "outputs": [],
   "source": [
    "# 4. Define your function called cumulativeHistogram(hist) here:\n",
    "def cumulativeHistogram(hist):\n",
    "    cumu=np.zeros([2,256],dtype='int')\n",
    "    i=0;\n",
    "    while i<256:\n",
    "        cumu[0,i]=i\n",
    "        for row in range(hist.shape[0]):\n",
    "            for col in range(hist.shape[1]):\n",
    "                cumu[1,i]+=hist[1,i]\n",
    "    return cumu"
   ]
  },
  {
   "cell_type": "code",
   "execution_count": null,
   "metadata": {
    "scrolled": false
   },
   "outputs": [
    {
     "name": "stderr",
     "output_type": "stream",
     "text": [
      "<ipython-input-5-947bf0897591>:9: RuntimeWarning: overflow encountered in long_scalars\n",
      "  cumu[1,i]+=hist[1,i]\n"
     ]
    }
   ],
   "source": [
    "# 5. Compute the histogram and cumulative Histogram\n",
    "x1=histogram(img_gray)[0,:]\n",
    "y1=histogram(img_gray)[1,:]\n",
    "plt.bar(x1,y1)\n",
    "x2=cumulativeHistogram(histogram(img_gray))[0,:]\n",
    "y2=cumulativeHistogram(histogram(img_gray))[1,:]\n",
    "plt.plot(x2,y2)"
   ]
  },
  {
   "cell_type": "markdown",
   "metadata": {},
   "source": [
    "## B. Histogram Equalization *(7 points)*\n",
    "You have learned the concept for **histogram equalization** in the lecture. It transforms the image such that all intensities are used equally often. \n",
    "\n",
    "**Tasks:**\n",
    "1. Define a **function** ```imageEqualization(image)``` which takes an image as input and returns the transformed image after applying the histogram equalization. *(3 points)*\n",
    "2. **Compute** the **equalized** grayscale **cube image** and **visualize** it next to the original image. Set the title of each image properly. **Explain** your **observations** in the markdown cell below. *(2 points)*\n",
    "3. **Compute** the **histogram** and **cumulative histogram** of the equalized image. **Plot** both histograms. In the markdown cell below **describe** the **differences** with respect to the original histograms. *(2 points)*"
   ]
  },
  {
   "cell_type": "code",
   "execution_count": null,
   "metadata": {},
   "outputs": [],
   "source": [
    "# 1. Define your function called imageEqualization(image) here:\n",
    "def imageEqualization(image):\n",
    "    N=image.shape[0]*image.shape[1]\n",
    "    hist_equa=np.zeros(image.shape[0],image.shape[0])\n",
    "    for row in range(image.shape[0]):\n",
    "        for col in range(iamge.shape[1]):\n",
    "            hist_equa[row-1,col-1]=(255/(N-cumulativeHistogram(histogram(image))[1,0]))*((image[row-1,col-1]-cumulativeHistogram(histogram(image))[1,0]))\n",
    "    return hist_equa\n",
    "            "
   ]
  },
  {
   "cell_type": "code",
   "execution_count": null,
   "metadata": {},
   "outputs": [],
   "source": [
    "# 2. Compute equalized image\n",
    "img_equa=imageEqualization(img_gray)\n",
    "cv.imshow(\"img_equa\",img_equa)"
   ]
  },
  {
   "cell_type": "markdown",
   "metadata": {},
   "source": [
    "**2. Explain your observations here:**\n",
    "\n",
    "*It looks like the photo is clear*"
   ]
  },
  {
   "cell_type": "code",
   "execution_count": null,
   "metadata": {},
   "outputs": [],
   "source": [
    "# 3. Compute the histogram and cumulative histogram of the equalized image\n",
    "img_equa_hist=histogram(img_equa)\n",
    "img_equa_hist_cumu=cumulativeHistogram(img_equa_hist)"
   ]
  },
  {
   "cell_type": "markdown",
   "metadata": {},
   "source": [
    "**3. Explain your observations here:**\n",
    "\n",
    "*The curve is slower,the bars are sparse* "
   ]
  }
 ],
 "metadata": {
  "kernelspec": {
   "display_name": "Python 3",
   "language": "python",
   "name": "python3"
  },
  "language_info": {
   "codemirror_mode": {
    "name": "ipython",
    "version": 3
   },
   "file_extension": ".py",
   "mimetype": "text/x-python",
   "name": "python",
   "nbconvert_exporter": "python",
   "pygments_lexer": "ipython3",
   "version": "3.8.3"
  },
  "toc": {
   "base_numbering": 1,
   "nav_menu": {},
   "number_sections": false,
   "sideBar": true,
   "skip_h1_title": false,
   "title_cell": "Table of Contents",
   "title_sidebar": "Contents",
   "toc_cell": false,
   "toc_position": {},
   "toc_section_display": true,
   "toc_window_display": true
  }
 },
 "nbformat": 4,
 "nbformat_minor": 4
}
